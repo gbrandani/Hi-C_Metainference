{
 "cells": [
  {
   "cell_type": "markdown",
   "metadata": {},
   "source": [
    "# Setup conformations from previous cg metainference for fitting"
   ]
  },
  {
   "cell_type": "code",
   "execution_count": 1,
   "metadata": {},
   "outputs": [
    {
     "name": "stderr",
     "output_type": "stream",
     "text": [
      "/home/brandani/software/anaconda3/lib/python3.10/site-packages/Bio/pairwise2.py:278: BiopythonDeprecationWarning: Bio.pairwise2 has been deprecated, and we intend to remove it in a future release of Biopython. As an alternative, please consider using Bio.Align.PairwiseAligner as a replacement, and contact the Biopython developers if you still need the Bio.pairwise2 module.\n",
      "  warnings.warn(\n"
     ]
    }
   ],
   "source": [
    "import sys\n",
    "import numpy as np\n",
    "import matplotlib.pyplot as plt\n",
    "import MDAnalysis as mda\n",
    "import numpy.linalg as LA\n",
    "from MDAnalysis.analysis.align import *\n",
    "%matplotlib inline"
   ]
  },
  {
   "cell_type": "code",
   "execution_count": 2,
   "metadata": {},
   "outputs": [],
   "source": [
    "sys.path.append('../')\n",
    "from tools1cpn import *"
   ]
  },
  {
   "cell_type": "markdown",
   "metadata": {},
   "source": [
    "## Select 30kbegion"
   ]
  },
  {
   "cell_type": "markdown",
   "metadata": {},
   "source": [
    "although in the considered application the size of the 1kb region is the same as the 1CPN, the same approach can be applied when the 1kb region is larger"
   ]
  },
  {
   "cell_type": "code",
   "execution_count": 3,
   "metadata": {},
   "outputs": [
    {
     "data": {
      "text/plain": [
       "30"
      ]
     },
     "execution_count": 3,
     "metadata": {},
     "output_type": "execute_result"
    }
   ],
   "source": [
    "start_1cpn=0\n",
    "end_1cpn  =30000\n",
    "res_1cpn  =200\n",
    "start_cg  =0\n",
    "end_cg    =30000\n",
    "res_cg    =1000\n",
    "\n",
    "N1cpn=150\n",
    "cg_fac=5\n",
    "Ncg  =N1cpn//cg_fac\n",
    "Ncg"
   ]
  },
  {
   "cell_type": "markdown",
   "metadata": {},
   "source": [
    "now for each group of 5 nucleosomes in the 1cpn model, link to corresponding bead in the cg model"
   ]
  },
  {
   "cell_type": "code",
   "execution_count": 4,
   "metadata": {},
   "outputs": [],
   "source": [
    "map2cg={}\n",
    "for i in range(N1cpn):\n",
    "    loc=start_1cpn+i*res_1cpn\n",
    "    icg=int((loc-start_cg)/res_cg)\n",
    "    map2cg[i]=icg\n",
    "map2cg_arr=np.array(list(map2cg.values()))"
   ]
  },
  {
   "cell_type": "code",
   "execution_count": 5,
   "metadata": {},
   "outputs": [
    {
     "data": {
      "text/plain": [
       "150"
      ]
     },
     "execution_count": 5,
     "metadata": {},
     "output_type": "execute_result"
    }
   ],
   "source": [
    "# remove elements that have less than 5 points\n",
    "for i,icg in list(map2cg.items()):\n",
    "    if len(map2cg_arr[map2cg_arr==icg])<cg_fac:\n",
    "        map2cg.pop(i)\n",
    "len(map2cg)"
   ]
  },
  {
   "cell_type": "code",
   "execution_count": 6,
   "metadata": {},
   "outputs": [
    {
     "data": {
      "text/plain": [
       "{0: [0, 1, 2, 3, 4],\n",
       " 1: [5, 6, 7, 8, 9],\n",
       " 2: [10, 11, 12, 13, 14],\n",
       " 3: [15, 16, 17, 18, 19],\n",
       " 4: [20, 21, 22, 23, 24],\n",
       " 5: [25, 26, 27, 28, 29],\n",
       " 6: [30, 31, 32, 33, 34],\n",
       " 7: [35, 36, 37, 38, 39],\n",
       " 8: [40, 41, 42, 43, 44],\n",
       " 9: [45, 46, 47, 48, 49],\n",
       " 10: [50, 51, 52, 53, 54],\n",
       " 11: [55, 56, 57, 58, 59],\n",
       " 12: [60, 61, 62, 63, 64],\n",
       " 13: [65, 66, 67, 68, 69],\n",
       " 14: [70, 71, 72, 73, 74],\n",
       " 15: [75, 76, 77, 78, 79],\n",
       " 16: [80, 81, 82, 83, 84],\n",
       " 17: [85, 86, 87, 88, 89],\n",
       " 18: [90, 91, 92, 93, 94],\n",
       " 19: [95, 96, 97, 98, 99],\n",
       " 20: [100, 101, 102, 103, 104],\n",
       " 21: [105, 106, 107, 108, 109],\n",
       " 22: [110, 111, 112, 113, 114],\n",
       " 23: [115, 116, 117, 118, 119],\n",
       " 24: [120, 121, 122, 123, 124],\n",
       " 25: [125, 126, 127, 128, 129],\n",
       " 26: [130, 131, 132, 133, 134],\n",
       " 27: [135, 136, 137, 138, 139],\n",
       " 28: [140, 141, 142, 143, 144],\n",
       " 29: [145, 146, 147, 148, 149]}"
      ]
     },
     "execution_count": 6,
     "metadata": {},
     "output_type": "execute_result"
    }
   ],
   "source": [
    "# now make the opposite map, from cg model to 1cpn\n",
    "map2cpn={}\n",
    "for i,icg in list(map2cg.items()):\n",
    "    if icg not in map2cpn:\n",
    "        map2cpn[icg]=[]\n",
    "    map2cpn[icg].append(i)\n",
    "map2cpn"
   ]
  },
  {
   "cell_type": "markdown",
   "metadata": {},
   "source": [
    "## Align cg conformation to 1cpn and print pdb"
   ]
  },
  {
   "cell_type": "code",
   "execution_count": 7,
   "metadata": {},
   "outputs": [
    {
     "name": "stderr",
     "output_type": "stream",
     "text": [
      "/home/brandani/software/anaconda3/lib/python3.10/site-packages/MDAnalysis/topology/PDBParser.py:317: UserWarning: Element information is missing, elements attribute will not be populated. If needed these can be guessed using MDAnalysis.topology.guessers.\n",
      "  warnings.warn(\"Element information is missing, elements attribute \"\n"
     ]
    }
   ],
   "source": [
    "confs_cg  =[]\n",
    "confs_1cpn=[]\n",
    "Nrep=64\n",
    "Neq=64\n",
    "for i in range(Nrep):\n",
    "    confs_cg.append(mda.Universe('run_multi.%d.t1000.pdb'%i,'run_multi.%d.t1000.pdb'%i))\n",
    "    confs_1cpn.append(read_dump('in.dump','eq%d.dump'%(i%Neq))[-1])"
   ]
  },
  {
   "cell_type": "code",
   "execution_count": 8,
   "metadata": {},
   "outputs": [
    {
     "data": {
      "text/plain": [
       "(150, 3)"
      ]
     },
     "execution_count": 8,
     "metadata": {},
     "output_type": "execute_result"
    }
   ],
   "source": [
    "confs_1cpn[0].shape"
   ]
  },
  {
   "cell_type": "code",
   "execution_count": 9,
   "metadata": {},
   "outputs": [
    {
     "data": {
      "text/plain": [
       "array([[ 7.73562000e+02, -2.93422000e+03,  5.14164800e+02],\n",
       "       [ 5.70835000e+02, -2.77388600e+03,  4.19556000e+02],\n",
       "       [ 5.59464800e+02, -2.45943000e+03,  4.81894400e+02],\n",
       "       [ 4.29135800e+02, -2.28293000e+03,  4.58109400e+02],\n",
       "       [ 4.92769000e+02, -2.05969400e+03,  4.03708600e+02],\n",
       "       [ 3.14327400e+02, -1.89201800e+03,  3.97845000e+02],\n",
       "       [ 3.26662600e+02, -1.73406200e+03,  2.57767600e+02],\n",
       "       [ 3.83418400e+02, -1.51256200e+03,  1.95223800e+02],\n",
       "       [ 4.49087600e+02, -1.41230600e+03,  8.08338000e+01],\n",
       "       [ 2.92482000e+02, -1.08810520e+03,  2.12240840e+02],\n",
       "       [ 1.87033880e+02, -9.05736800e+02,  2.26748000e+02],\n",
       "       [ 6.42304400e+01, -7.79602400e+02,  9.45726860e+01],\n",
       "       [-1.63474200e+01, -5.58636400e+02, -9.38517800e+01],\n",
       "       [-8.75860000e-01, -3.50916400e+02,  3.07926800e+01],\n",
       "       [-9.58655600e+01, -1.23038700e+02, -2.62324700e+01],\n",
       "       [-1.70896800e+01,  1.62343402e+02,  1.05729040e+02],\n",
       "       [ 6.48506000e+01,  3.34805000e+02,  7.87528180e+01],\n",
       "       [-1.63290680e+02,  3.58657800e+02, -1.85957720e+02],\n",
       "       [-2.00603980e+02,  7.85159000e+02, -1.15967120e+02],\n",
       "       [-1.22712580e+02,  1.07934000e+03, -8.16933800e+01],\n",
       "       [-2.60876200e+02,  1.05987100e+03, -2.17972200e+02],\n",
       "       [-3.27499600e+02,  1.21160600e+03, -1.78270900e+02],\n",
       "       [-3.16374600e+02,  1.59790600e+03, -5.59483600e+01],\n",
       "       [-3.67461800e+02,  1.73947600e+03, -1.32283354e+02],\n",
       "       [-3.98867600e+02,  1.95901000e+03, -3.48089160e+02],\n",
       "       [-3.12664600e+02,  2.15094600e+03, -3.69997200e+02],\n",
       "       [-3.93058600e+02,  2.44425200e+03, -4.97591400e+02],\n",
       "       [-7.54512200e+02,  2.44669400e+03, -5.36393600e+02],\n",
       "       [-5.40562600e+02,  2.63218400e+03, -5.98337200e+02],\n",
       "       [-6.28018600e+02,  2.88490600e+03, -5.25448000e+02]])"
      ]
     },
     "execution_count": 9,
     "metadata": {},
     "output_type": "execute_result"
    }
   ],
   "source": [
    "# setup references\n",
    "refs=[] # CG bead locations in the 1CPN conformations\n",
    "ref_natoms=len(map2cpn)\n",
    "for i in range(Nrep):\n",
    "    refs.append(np.zeros((ref_natoms,3)))\n",
    "    iref=0\n",
    "    for icg in map2cpn:\n",
    "        for i1cpn in map2cpn[icg]:\n",
    "            refs[-1][iref]+=confs_1cpn[i][i1cpn]/cg_fac\n",
    "        iref+=1\n",
    "refs[0]"
   ]
  },
  {
   "cell_type": "code",
   "execution_count": 10,
   "metadata": {},
   "outputs": [
    {
     "data": {
      "text/plain": [
       "270.8465327693181"
      ]
     },
     "execution_count": 10,
     "metadata": {},
     "output_type": "execute_result"
    }
   ],
   "source": [
    "# check distance between neighboring beads\n",
    "tmp=[]\n",
    "for i in range(1,ref_natoms):\n",
    "    tmp.append(LA.norm( refs[0][i]-refs[0][i-1] ))\n",
    "tmp=np.array(tmp)\n",
    "tmp.mean()"
   ]
  },
  {
   "cell_type": "code",
   "execution_count": 11,
   "metadata": {},
   "outputs": [
    {
     "data": {
      "text/plain": [
       "6075.150233212031"
      ]
     },
     "execution_count": 11,
     "metadata": {},
     "output_type": "execute_result"
    }
   ],
   "source": [
    "# end-to-end distance\n",
    "LA.norm( refs[0][ref_natoms-1]-refs[0][0] )"
   ]
  },
  {
   "cell_type": "code",
   "execution_count": 12,
   "metadata": {},
   "outputs": [
    {
     "name": "stdout",
     "output_type": "stream",
     "text": [
      "1.3296026\n"
     ]
    }
   ],
   "source": [
    "for ts in confs_cg[0].trajectory:\n",
    "    pos=confs_cg[0].atoms.positions\n",
    "    tmp=[]\n",
    "    for i in range(1,len(pos)):\n",
    "        tmp.append(LA.norm( pos[i]-pos[i-1] ))\n",
    "    tmp=np.array(tmp)\n",
    "    print(tmp.mean())"
   ]
  },
  {
   "cell_type": "code",
   "execution_count": 13,
   "metadata": {},
   "outputs": [
    {
     "name": "stderr",
     "output_type": "stream",
     "text": [
      "/home/brandani/software/anaconda3/lib/python3.10/site-packages/MDAnalysis/coordinates/PDB.py:1080: UserWarning: Found no information for attr: 'elements' Using default value of ' '\n",
      "  warnings.warn(\"Found no information for attr: '{}'\"\n"
     ]
    }
   ],
   "source": [
    "sel_natoms=len(map2cpn)\n",
    "bead_size=220. # A, the size of one bead\n",
    "out_scale=0.1 # scale to nm so that conformation can be printed out\n",
    "smd_ori=[] # initial positions during smd\n",
    "smd_ref=[] # restraint positions for smd\n",
    "for i in range(Nrep):\n",
    "    # make sure to be at the first frame\n",
    "    for ts in confs_cg[i].trajectory:\n",
    "        out_fname='cg_sel_fit.%d.pdb'%i\n",
    "        # reference for alignment\n",
    "        ref=np.array(refs[i])\n",
    "        smd_ori.append(np.array(ref))\n",
    "        ref_com=ref.mean(axis=0)\n",
    "        # selection to print out\n",
    "        sel_string='index '\n",
    "        for icg in map2cpn: sel_string+='%d '%icg\n",
    "        sel=confs_cg[i].select_atoms(sel_string)\n",
    "        # save original positions\n",
    "        original=np.array(sel.positions)\n",
    "        # convert units of sel\n",
    "        sel.positions*=bead_size\n",
    "        sel_com=sel.center_of_geometry()\n",
    "        # align sel to ref\n",
    "        # move both to origin\n",
    "        sel.translate(-sel_com)\n",
    "        ref-=ref_com\n",
    "        # find optimal rotation matrix\n",
    "        R,rmsd=rotation_matrix(sel.positions,ref)\n",
    "        # rotate sel\n",
    "        sel.rotate(R)\n",
    "        # translate to the ref com\n",
    "        sel.translate(+ref_com)\n",
    "        ref+=ref_com\n",
    "        # save restraint positions for smd\n",
    "        smd_ref.append(np.array(sel.positions))\n",
    "        # scale to print out\n",
    "        sel.positions*=out_scale\n",
    "        # print out\n",
    "        with mda.Writer(out_fname,sel_natoms) as W:\n",
    "            W.write(sel.atoms)\n",
    "        # print out coarse grained 1cpn model for comparison\n",
    "        sel.positions=np.array(ref)*out_scale\n",
    "        with mda.Writer('cg_sel_1cpn.%d.pdb'%i,sel_natoms) as W:\n",
    "            W.write(sel.atoms)\n",
    "        # reset positions to original values\n",
    "        sel.positions=np.array(original)\n",
    "        break"
   ]
  },
  {
   "cell_type": "markdown",
   "metadata": {},
   "source": [
    "## now print out lamms smd settings"
   ]
  },
  {
   "cell_type": "code",
   "execution_count": 14,
   "metadata": {},
   "outputs": [
    {
     "data": {
      "text/plain": [
       "{0: [0, 1, 2, 3, 4],\n",
       " 1: [5, 6, 7, 8, 9],\n",
       " 2: [10, 11, 12, 13, 14],\n",
       " 3: [15, 16, 17, 18, 19],\n",
       " 4: [20, 21, 22, 23, 24],\n",
       " 5: [25, 26, 27, 28, 29],\n",
       " 6: [30, 31, 32, 33, 34],\n",
       " 7: [35, 36, 37, 38, 39],\n",
       " 8: [40, 41, 42, 43, 44],\n",
       " 9: [45, 46, 47, 48, 49],\n",
       " 10: [50, 51, 52, 53, 54],\n",
       " 11: [55, 56, 57, 58, 59],\n",
       " 12: [60, 61, 62, 63, 64],\n",
       " 13: [65, 66, 67, 68, 69],\n",
       " 14: [70, 71, 72, 73, 74],\n",
       " 15: [75, 76, 77, 78, 79],\n",
       " 16: [80, 81, 82, 83, 84],\n",
       " 17: [85, 86, 87, 88, 89],\n",
       " 18: [90, 91, 92, 93, 94],\n",
       " 19: [95, 96, 97, 98, 99],\n",
       " 20: [100, 101, 102, 103, 104],\n",
       " 21: [105, 106, 107, 108, 109],\n",
       " 22: [110, 111, 112, 113, 114],\n",
       " 23: [115, 116, 117, 118, 119],\n",
       " 24: [120, 121, 122, 123, 124],\n",
       " 25: [125, 126, 127, 128, 129],\n",
       " 26: [130, 131, 132, 133, 134],\n",
       " 27: [135, 136, 137, 138, 139],\n",
       " 28: [140, 141, 142, 143, 144],\n",
       " 29: [145, 146, 147, 148, 149]}"
      ]
     },
     "execution_count": 14,
     "metadata": {},
     "output_type": "execute_result"
    }
   ],
   "source": [
    "map2cpn"
   ]
  },
  {
   "cell_type": "code",
   "execution_count": 15,
   "metadata": {},
   "outputs": [
    {
     "data": {
      "image/png": "[encoded data removed]",
      "text/plain": [
       "<Figure size 640x480 with 1 Axes>"
      ]
     },
     "metadata": {},
     "output_type": "display_data"
    }
   ],
   "source": [
    "# check distances between target and initial position\n",
    "for i in range(1):\n",
    "    plt.plot(LA.norm(smd_ref[i]-smd_ori[i],axis=1))"
   ]
  },
  {
   "cell_type": "code",
   "execution_count": 17,
   "metadata": {},
   "outputs": [],
   "source": [
    "# setup using lammps and plumed\n",
    "conf,indices=read_dump('in.dump','in.dump',return_indices=True)\n",
    "scale_plm=0.1 # comvert to nm\n",
    "for i in range(Nrep):\n",
    "    lmp_template=open('in.runXXX','r')\n",
    "    lmp_out=open('in.run%d'%i,'w')\n",
    "    plm_out=open('plumed_smd%d.dat'%i,'w')\n",
    "    for l in lmp_template.readlines():\n",
    "        l=l.replace('XXX','%d'%i)\n",
    "        l=l.replace('YYY','%d'%(i%Neq))\n",
    "        lmp_out.write(l)\n",
    "    # make plumed file\n",
    "    plm_out.write('WHOLEMOLECULES STRIDE=1 ENTITY0=1-4067\\n\\n')\n",
    "    j=0\n",
    "    for icg in map2cpn:\n",
    "        # target position\n",
    "        X,Y,Z=scale_plm*smd_ref[i][j]\n",
    "        plm_out.write('ref%d: FIXEDATOM AT=%.3f,%.3f,%.3f\\n'%(icg,X,Y,Z))\n",
    "        # cvs\n",
    "        s='c%d: CENTER ATOMS='%(icg)\n",
    "        for i1cpn in map2cpn[icg]: s+='%d,'%(indices[i1cpn])\n",
    "        plm_out.write(s[:-1]+'\\n')\n",
    "        plm_out.write('d%d: DISTANCE ATOMS=ref%d,c%d\\n'%(icg,icg,icg))\n",
    "        # write the moving restraint\n",
    "        K=100.0\n",
    "        R0=scale_plm*LA.norm(smd_ref[i][j]-smd_ori[i][j])\n",
    "        plm_out.write('MOVINGRESTRAINT ...\\n')\n",
    "        plm_out.write('ARG=d%d\\n'%(icg))\n",
    "        plm_out.write('VERSE=U\\n')\n",
    "        plm_out.write('STEP0=0         AT0=%.1f KAPPA0=%.1f\\n'%(R0,K))\n",
    "        plm_out.write('STEP1=80000000  AT1=0.0 KAPPA1=%.1f\\n'%(K))\n",
    "        plm_out.write('STEP2=100000000 AT2=0.0 KAPPA2=%.1f\\n'%(K))\n",
    "        plm_out.write('... MOVINGRESTRAINT\\n')\n",
    "        plm_out.write('\\n')\n",
    "        j+=1\n",
    "    plm_out.write('PRINT ARG=* STRIDE=100000 FILE=colvar_smd%d.dat'%(i))\n",
    "    lmp_template.close()\n",
    "    lmp_out.close()\n",
    "    plm_out.close()"
   ]
  },
  {
   "cell_type": "code",
   "execution_count": null,
   "metadata": {},
   "outputs": [],
   "source": []
  }
 ],
 "metadata": {
  "kernelspec": {
   "display_name": "Python 3 (ipykernel)",
   "language": "python",
   "name": "python3"
  },
  "language_info": {
   "codemirror_mode": {
    "name": "ipython",
    "version": 3
   },
   "file_extension": ".py",
   "mimetype": "text/x-python",
   "name": "python",
   "nbconvert_exporter": "python",
   "pygments_lexer": "ipython3",
   "version": "3.10.9"
  }
 },
 "nbformat": 4,
 "nbformat_minor": 4
}
